{
 "cells": [
  {
   "cell_type": "markdown",
   "metadata": {},
   "source": [
    "IMPORTAR DATASET"
   ]
  },
  {
   "cell_type": "code",
   "execution_count": 1,
   "metadata": {},
   "outputs": [],
   "source": [
    "import pandas as pd\n",
    "import numpy as np\n",
    "import matplotlib.pyplot\n",
    "\n",
    "df_ano1 = pd.read_csv('/Users/mtcd/Library/Mobile Documents/com~apple~CloudDocs/@Pessoal/@Evernote/Estudos/@programming/p.qualidade_ar_work/dataset/2019SP01.csv', encoding='ISO-8859-1')\n",
    "df_ano2 = pd.read_csv('/Users/mtcd/Library/Mobile Documents/com~apple~CloudDocs/@Pessoal/@Evernote/Estudos/@programming/p.qualidade_ar_work/dataset/SP202001.csv', encoding='ISO-8859-1')"
   ]
  },
  {
   "cell_type": "markdown",
   "metadata": {},
   "source": [
    "ESTAÇÕES EXISTENTES"
   ]
  },
  {
   "cell_type": "code",
   "execution_count": 2,
   "metadata": {},
   "outputs": [
    {
     "data": {
      "text/plain": [
       "Marg. Tietê - Pte dos Remédios    41247\n",
       "Congonhas                         40582\n",
       "Guarulhos - Pimentas              38853\n",
       "Cubatão - Vale do Mogi            31855\n",
       "Cerqueira César                   31808\n",
       "Guaratinguetá                     31688\n",
       "Cubatão - Centro                  31201\n",
       "Itaim Paulista                    29965\n",
       "Grajaú - Parelheiros              29848\n",
       "Jundiaí                           29540\n",
       "Interlagos                        26607\n",
       "Limeira                           26129\n",
       "Guarulhos - Paço Municipal        25406\n",
       "Jaú                               25375\n",
       "Araraquara                        25052\n",
       "Marília                           24642\n",
       "Cubatão - Vila Parisi             24610\n",
       "Catanduva                         24500\n",
       "Bauru                             24377\n",
       "Carapicuíba                       24366\n",
       "Jacareí                           23357\n",
       "Campinas - Taquaral               23245\n",
       "Ibirapuera                        23245\n",
       "Mauá                              19618\n",
       "Diadema                           16767\n",
       "Cid.Universitária USP - IPEN      16710\n",
       "Araçatuba                         16535\n",
       "Campinas - Vila União             16330\n",
       "Campinas - Centro                 15740\n",
       "Capão Redondo                     15155\n",
       "Americana                         14930\n",
       "Itaquera                           7763\n",
       "Mooca                              5336\n",
       "Name: Estacao, dtype: int64"
      ]
     },
     "execution_count": 2,
     "metadata": {},
     "output_type": "execute_result"
    }
   ],
   "source": [
    "df_ano1.Estacao.value_counts()"
   ]
  },
  {
   "cell_type": "markdown",
   "metadata": {},
   "source": [
    "FILTRAR DATASET PARA VISUALIZAR AS ESTAÇÕES ESCOLHIDAS"
   ]
  },
  {
   "cell_type": "code",
   "execution_count": 3,
   "metadata": {},
   "outputs": [],
   "source": [
    "nome_estacao_1 = \"Cubatão - Centro\"\n",
    "nome_estacao_2 = \"Itaim Paulista\"\n",
    "\n",
    "df_estacao1_ano1 = df_ano1.loc[df_ano1.Estacao == nome_estacao_1]\n",
    "df_estacao1_ano2 = df_ano2.loc[df_ano2.Estacao == nome_estacao_1]\n",
    "\n",
    "df_estacao2_ano1 = df_ano1.loc[df_ano1.Estacao == nome_estacao_2]\n",
    "df_estacao2_ano2 = df_ano2.loc[df_ano2.Estacao == nome_estacao_2]"
   ]
  },
  {
   "cell_type": "markdown",
   "metadata": {},
   "source": [
    "LISTAGEM DE POLUENTES EXISTENTES NAS ESTAÇÕES 1 E 2"
   ]
  },
  {
   "cell_type": "code",
   "execution_count": 4,
   "metadata": {},
   "outputs": [
    {
     "name": "stdout",
     "output_type": "stream",
     "text": [
      "Cubatão - Centro\n",
      "MP10    8238\n",
      "O3      7798\n",
      "SO2     7639\n",
      "NO2     7526\n",
      "Name: Poluente, dtype: int64\n",
      "\n",
      "\n",
      "Itaim Paulista\n",
      "NO2      8006\n",
      "O3       7888\n",
      "MP10     7369\n",
      "MP2.5    6702\n",
      "Name: Poluente, dtype: int64\n"
     ]
    }
   ],
   "source": [
    "print(f'{nome_estacao_1}\\n{df_estacao1_ano1.Poluente.value_counts()}')\n",
    "print('\\n')\n",
    "print(f'{nome_estacao_2}\\n{df_estacao2_ano1.Poluente.value_counts()}')"
   ]
  },
  {
   "cell_type": "markdown",
   "metadata": {},
   "source": [
    "FILTRAR POR POLUENTE"
   ]
  },
  {
   "cell_type": "code",
   "execution_count": 5,
   "metadata": {},
   "outputs": [],
   "source": [
    "poluente_1 = \"MP10\"\n",
    "\n",
    "# ESTAÇÃO 1\n",
    "df_estacao1_ano1_poluente1 = df_estacao1_ano1.loc[df_estacao1_ano1.Poluente == poluente_1]\n",
    "df_estacao1_ano2_poluente1 = df_estacao1_ano2.loc[df_estacao1_ano2.Poluente == poluente_1]\n",
    "\n",
    "# ESTAÇÃO 2\n",
    "df_estacao2_ano1_poluente1 = df_estacao2_ano1.loc[df_estacao2_ano1.Poluente == poluente_1]\n",
    "df_estacao2_ano2_poluente1 = df_estacao2_ano2.loc[df_estacao2_ano2.Poluente == poluente_1]\n",
    "\n",
    "########################################################################\n",
    "\n",
    "poluente_2 = \"O3\"\n",
    "\n",
    "# ESTAÇÃO 1\n",
    "df_estacao1_ano1_poluente2 = df_estacao1_ano1.loc[df_estacao1_ano1.Poluente == poluente_2]\n",
    "df_estacao1_ano2_poluente2 = df_estacao1_ano2.loc[df_estacao1_ano2.Poluente == poluente_2]\n",
    "\n",
    "# ESTAÇÃO 2\n",
    "df_estacao2_ano1_poluente2 = df_estacao2_ano1.loc[df_estacao2_ano1.Poluente == poluente_2]\n",
    "df_estacao2_ano2_poluente2 = df_estacao2_ano2.loc[df_estacao2_ano2.Poluente == poluente_2]"
   ]
  },
  {
   "cell_type": "code",
   "execution_count": 6,
   "metadata": {},
   "outputs": [
    {
     "name": "stdout",
     "output_type": "stream",
     "text": [
      "Collecting package metadata (current_repodata.json): done\n",
      "Solving environment: - Solving environment: failed with repodata from current_repodata.json, will retry with next repodata source.\n",
      "failed with repodata from current_repodata.json, will retry with next repodata source.\n",
      "Collecting package metadata (repodata.json): done\n",
      "Solving environment: | Solving environment: \\ \\ - | - - | | - | done\n",
      "done\n",
      "\n",
      "## Package Plan ##\n",
      "\n",
      "  environment location: /Users/mtcd/miniforge3\n",
      "\n",
      "  added / updated specs:\n",
      "    - appnope\n",
      "    - asttokens\n",
      "    - backcall\n",
      "    - backports\n",
      "    - backports.functools_lru_cache\n",
      "    - bzip2\n",
      "    - ca-certificates\n",
      "    - debugpy\n",
      "    - decorator\n",
      "    - entrypoints\n",
      "    - executing\n",
      "    - ipykernel\n",
      "    - ipython\n",
      "    - jedi\n",
      "    - jupyter_client\n",
      "    - jupyter_core\n",
      "    - libcxx\n",
      "    - libffi\n",
      "    - libsodium\n",
      "    - libsqlite\n",
      "    - libzlib\n",
      "    - matplotlib-inline\n",
      "    - ncurses\n",
      "    - nest-asyncio\n",
      "    - openssl\n",
      "    - packaging\n",
      "    - parso\n",
      "    - pexpect\n",
      "    - pickleshare\n",
      "    - pip\n",
      "    - prompt-toolkit\n",
      "    - psutil\n",
      "    - ptyprocess\n",
      "    - pure_eval\n",
      "    - pygments\n",
      "    - pyparsing\n",
      "    - python-dateutil\n",
      "    - python=3.10\n",
      "    - python_abi\n",
      "    - pyzmq\n",
      "    - readline\n",
      "    - setuptools\n",
      "    - six\n",
      "    - stack_data\n",
      "    - tk\n",
      "    - tornado\n",
      "    - traitlets\n",
      "    - tzdata\n",
      "    - wcwidth\n",
      "    - wheel\n",
      "    - xz\n",
      "    - zeromq\n",
      "\n",
      "\n",
      "\n",
      "Proceed ([y]/n)? ^C\n",
      "\n",
      "CondaSystemExit: \n",
      "Operation aborted.  Exiting.\n",
      "\n"
     ]
    }
   ],
   "source": []
  },
  {
   "cell_type": "markdown",
   "metadata": {},
   "source": [
    "SALVANDO REGISTROS FILTRADOS NO EXCEL"
   ]
  },
  {
   "cell_type": "code",
   "execution_count": 7,
   "metadata": {},
   "outputs": [
    {
     "name": "stderr",
     "output_type": "stream",
     "text": [
      "/Users/mtcd/miniforge3/lib/python3.10/site-packages/openpyxl/workbook/child.py:99: UserWarning: Title is more than 31 characters. Some applications may not be able to read the file\n",
      "  warnings.warn(\"Title is more than 31 characters. Some applications may not be able to read the file\")\n",
      "/var/folders/xr/mxpp8rhx03q0f7ws70l4z95h0000gn/T/ipykernel_15300/3591773341.py:6: FutureWarning: save is not part of the public API, usage can give unexpected results and will be removed in a future version\n",
      "  writer.save()\n",
      "/var/folders/xr/mxpp8rhx03q0f7ws70l4z95h0000gn/T/ipykernel_15300/3591773341.py:13: FutureWarning: save is not part of the public API, usage can give unexpected results and will be removed in a future version\n",
      "  writer.save()\n"
     ]
    }
   ],
   "source": [
    "writer = pd.ExcelWriter(\"estacoes_poluentes_2019_todos_registros.xlsx\")\n",
    "df_estacao1_ano1_poluente1.to_excel(writer, \"cubatao_mp10_2019_todos_registros.xlsx\")\n",
    "df_estacao2_ano1_poluente1.to_excel(writer, \"itaim_mp10_2019_todos_registros.xlsx\")\n",
    "df_estacao1_ano1_poluente2.to_excel(writer, \"cubatao_03_2019_todos_registros.xlsx\")\n",
    "df_estacao2_ano1_poluente2.to_excel(writer, \"itaim_03_2019_todos_registros.xlsx\")\n",
    "writer.save()\n",
    "\n",
    "writer = pd.ExcelWriter(\"estacoes_poluentes_2020_todos_registros.xlsx\")\n",
    "df_estacao1_ano2_poluente1.to_excel(writer, \"cubatao_mp10_2020_todos_registros.xlsx\")\n",
    "df_estacao2_ano2_poluente1.to_excel(writer, \"itaim_mp10_2020_todos_registros.xlsx\")\n",
    "df_estacao1_ano2_poluente2.to_excel(writer, \"cubatao_03_2020_todos_registros.xlsx\")\n",
    "df_estacao2_ano2_poluente2.to_excel(writer, \"itaim_03_2020_todos_registros.xlsx\")\n",
    "writer.save()"
   ]
  },
  {
   "cell_type": "markdown",
   "metadata": {},
   "source": [
    "CÁCLULO NECESSÁRIO PARA OZONO - OBTER O MAIS ALTO VALOR NA MÉDIA DE 8 HORAS"
   ]
  },
  {
   "cell_type": "code",
   "execution_count": null,
   "metadata": {},
   "outputs": [
    {
     "ename": "",
     "evalue": "",
     "output_type": "error",
     "traceback": [
      "\u001b[1;31mRunning cells with 'Python 3.10.6 ('base')' requires ipykernel package.\n",
      "\u001b[1;31mRun the following command to install 'ipykernel' into the Python environment. \n",
      "\u001b[1;31mCommand: 'conda install -n base ipykernel --update-deps --force-reinstall'"
     ]
    }
   ],
   "source": []
  },
  {
   "cell_type": "markdown",
   "metadata": {},
   "source": [
    "MÉDIA DIÁRIA DE EMISSÕES ESTAÇÃO 1 E 2, POLUENTE 1"
   ]
  },
  {
   "cell_type": "code",
   "execution_count": null,
   "metadata": {},
   "outputs": [
    {
     "ename": "",
     "evalue": "",
     "output_type": "error",
     "traceback": [
      "\u001b[1;31mRunning cells with 'Python 3.10.6 ('base')' requires ipykernel package.\n",
      "\u001b[1;31mRun the following command to install 'ipykernel' into the Python environment. \n",
      "\u001b[1;31mCommand: 'conda install -n base ipykernel --update-deps --force-reinstall'"
     ]
    }
   ],
   "source": [
    "agrupamento_estacao1_ano1_poluente1_dia = df_estacao1_ano1_poluente1.groupby(\"Data\").mean()\n",
    "agrupamento_estacao1_ano2_poluente1_dia = df_estacao1_ano2_poluente1.groupby(\"Data\").mean()\n",
    "\n",
    "agrupamento_estacao2_ano1_poluente1_dia = df_estacao2_ano1_poluente1.groupby(\"Data\").mean()\n",
    "agrupamento_estacao2_ano2_poluente1_dia = df_estacao2_ano2_poluente1.groupby(\"Data\").mean()"
   ]
  },
  {
   "cell_type": "markdown",
   "metadata": {},
   "source": [
    "MÉDIA MENSAL DE EMISSÕES ESTAÇÓES 1 E 2, POLUENTE 1"
   ]
  },
  {
   "cell_type": "code",
   "execution_count": null,
   "metadata": {},
   "outputs": [
    {
     "ename": "",
     "evalue": "",
     "output_type": "error",
     "traceback": [
      "\u001b[1;31mRunning cells with 'Python 3.10.6 ('base')' requires ipykernel package.\n",
      "\u001b[1;31mRun the following command to install 'ipykernel' into the Python environment. \n",
      "\u001b[1;31mCommand: 'conda install -n base ipykernel --update-deps --force-reinstall'"
     ]
    }
   ],
   "source": [
    "### ANO 1 & 2 ###\n",
    "### POLUENTE 1 & 2 ###\n",
    "\n",
    "# Converter string de data em datetime\n",
    "# E1 / A1 / P1\n",
    "df_estacao1_ano1_poluente1['Data'] = pd.to_datetime(df_estacao1_ano1_poluente1['Data'])\n",
    "agrupamento_estacao1_ano1_poluente1_mes = df_estacao1_ano1_poluente1.groupby(df_estacao1_ano1_poluente1[\"Data\"].dt .month) [\"Valor\"]. mean()\n",
    "\n",
    "# E1 / A2 / P1\n",
    "df_estacao1_ano2_poluente1['Data'] = pd.to_datetime(df_estacao1_ano2_poluente1['Data'])\n",
    "agrupamento_estacao1_ano2_poluente1_mes = df_estacao1_ano2_poluente1.groupby(df_estacao1_ano2_poluente1[\"Data\"].dt .month) [\"Valor\"]. mean()\n",
    "\n",
    "# E2 / A1 / P1\n",
    "df_estacao2_ano1_poluente1['Data'] = pd.to_datetime(df_estacao2_ano1_poluente1['Data'])\n",
    "agrupamento_estacao2_ano1_poluente1_mes = df_estacao2_ano1_poluente1.groupby(df_estacao2_ano1_poluente1[\"Data\"].dt .month) [\"Valor\"]. mean()\n",
    "\n",
    "# E2 / A2 / P1\n",
    "df_estacao2_ano2_poluente1['Data'] = pd.to_datetime(df_estacao2_ano2_poluente1['Data'])\n",
    "agrupamento_estacao2_ano2_poluente1_mes = df_estacao2_ano2_poluente1.groupby(df_estacao2_ano2_poluente1[\"Data\"].dt .month) [\"Valor\"]. mean()"
   ]
  },
  {
   "cell_type": "markdown",
   "metadata": {},
   "source": [
    "SALVANDO REGISTRO FILTRADOS NO EXCEL"
   ]
  },
  {
   "cell_type": "code",
   "execution_count": null,
   "metadata": {},
   "outputs": [],
   "source": [
    "writer = pd.ExcelWriter(\"estacoes_poluentes_2019_media_mensal.xlsx\")\n",
    "agrupamento_estacao1_ano1_poluente1_mes.to_excel(writer, \"cubatao_mp10_2019_media_mensal.xlsx\")\n",
    "agrupamento_estacao1_ano2_poluente1_mes.to_excel(writer, \"cubatao_mp10_2020_media_mensal.xlsx\")\n",
    "agrupamento_estacao2_ano1_poluente1_mes.to_excel(writer, \"itaim_mp10_2019_media_mensal.xlsx\")\n",
    "agrupamento_estacao2_ano2_poluente1_mes.to_excel(writer, \"itaim_mp10_2020_media_mensal.xlsx\")\n",
    "writer.save()"
   ]
  },
  {
   "cell_type": "markdown",
   "metadata": {},
   "source": [
    "RECUPERAR O ANO PESQUISADO (OBTER ANOS 1 E 2)"
   ]
  },
  {
   "cell_type": "code",
   "execution_count": null,
   "metadata": {},
   "outputs": [],
   "source": [
    "ano1 = int(df_estacao1_ano1_poluente1[\"Data\"].dt .year.head(1))\n",
    "ano2 = int(df_estacao1_ano2_poluente1[\"Data\"].dt .year.head(1))"
   ]
  },
  {
   "cell_type": "markdown",
   "metadata": {},
   "source": [
    "MÉDIA ANUAL DE EMISSÕES - ESTAÇÕES 1 E 2"
   ]
  },
  {
   "cell_type": "code",
   "execution_count": null,
   "metadata": {},
   "outputs": [],
   "source": [
    "agrupamento_estacao1_ano1_poluente1_ano = df_estacao1_ano1_poluente1.groupby(\"Poluente\").mean()\n",
    "agrupamento_estacao1_ano2_poluente1_ano = df_estacao1_ano2_poluente1.groupby(\"Poluente\").mean()\n",
    "agrupamento_estacao2_ano1_poluente1_ano = df_estacao2_ano1_poluente1.groupby(\"Poluente\").mean()\n",
    "agrupamento_estacao2_ano2_poluente1_ano = df_estacao2_ano2_poluente1.groupby(\"Poluente\").mean()"
   ]
  },
  {
   "cell_type": "markdown",
   "metadata": {},
   "source": []
  },
  {
   "cell_type": "code",
   "execution_count": null,
   "metadata": {},
   "outputs": [],
   "source": []
  }
 ],
 "metadata": {
  "kernelspec": {
   "display_name": "Python 3",
   "language": "python",
   "name": "python3"
  },
  "language_info": {
   "codemirror_mode": {
    "name": "ipython",
    "version": 3
   },
   "file_extension": ".py",
   "mimetype": "text/x-python",
   "name": "python",
   "nbconvert_exporter": "python",
   "pygments_lexer": "ipython3",
   "version": "3.10.7 (v3.10.7:6cc6b13308, Sep  5 2022, 14:02:52) [Clang 13.0.0 (clang-1300.0.29.30)]"
  },
  "orig_nbformat": 4,
  "vscode": {
   "interpreter": {
    "hash": "aee8b7b246df8f9039afb4144a1f6fd8d2ca17a180786b69acc140d282b71a49"
   }
  }
 },
 "nbformat": 4,
 "nbformat_minor": 2
}
